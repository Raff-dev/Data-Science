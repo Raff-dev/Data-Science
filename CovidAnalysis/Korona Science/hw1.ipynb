{
 "nbformat": 4,
 "nbformat_minor": 2,
 "metadata": {
  "language_info": {
   "name": "python",
   "codemirror_mode": {
    "name": "ipython",
    "version": 3
   },
   "version": "3.8.0-final"
  },
  "orig_nbformat": 2,
  "file_extension": ".py",
  "mimetype": "text/x-python",
  "name": "python",
  "npconvert_exporter": "python",
  "pygments_lexer": "ipython3",
  "version": 3,
  "kernelspec": {
   "name": "python38032bite92115f2261948f5a3c791231d87287e",
   "display_name": "Python 3.8.0 32-bit"
  }
 },
 "cells": [
  {
   "cell_type": "code",
   "execution_count": 350,
   "metadata": {},
   "outputs": [],
   "source": [
    "from typing import List\n",
    "import pandas as pd\n",
    "from datetime import datetime, timedelta\n",
    "import numpy as np\n",
    "\n",
    "CONFIRMED_CASES_URL = f\"https://raw.githubusercontent.com/CSSEGISandData/COVID-19/master/csse_covid_19_data\" \\\n",
    "                      f\"/csse_covid_19_time_series/time_series_19-covid-Confirmed.csv \"\n",
    "\n",
    "\"\"\"\n",
    "When downloading data it's better to do it in a global scope instead of a function.\n",
    "This speeds up the tests significantly\n",
    "\"\"\"\n",
    "confirmed_cases = pd.read_csv(CONFIRMED_CASES_URL, error_bad_lines=False)"
   ]
  },
  {
   "cell_type": "code",
   "execution_count": 421,
   "metadata": {},
   "outputs": [
    {
     "data": {
      "text/plain": "5"
     },
     "execution_count": 421,
     "metadata": {},
     "output_type": "execute_result"
    }
   ],
   "source": [
    "def poland_cases_by_date(day: int, month: int, year: int = 2020) -> int:\n",
    "    date = f'{month}/{day}/{year%100}'    \n",
    "    poland = confirmed_cases[lambda df: df['Country/Region']=='Poland']\n",
    "    by_day = poland.loc[:,date].values[0]\n",
    "    return by_day\n",
    "poland_cases_by_date(7,3,2020)\n",
    "\n"
   ]
  },
  {
   "cell_type": "code",
   "execution_count": 420,
   "metadata": {},
   "outputs": [
    {
     "data": {
      "text/plain": "['China', 'Japan', 'Thailand', 'Korea, South', 'Taiwan*']"
     },
     "execution_count": 420,
     "metadata": {},
     "output_type": "execute_result"
    }
   ],
   "source": [
    "def top5_countries_by_date(day: int, month: int, year: int = 2020) -> List[str]:\n",
    "    cr = 'Country/Region'\n",
    "    ddate = f'{month}/{day}/{year%100}'\n",
    "    countries = confirmed_cases.loc[:,[ddate,cr]].groupby(cr).sum()\n",
    "    countries = countries.sort_values(ddate, ascending=False).index[:5]\n",
    "    return list(countries)\n",
    "top5_countries_by_date(22,1,2020)"
   ]
  },
  {
   "cell_type": "code",
   "execution_count": 474,
   "metadata": {},
   "outputs": [
    {
     "data": {
      "text/html": "<div>\n<style scoped>\n    .dataframe tbody tr th:only-of-type {\n        vertical-align: middle;\n    }\n\n    .dataframe tbody tr th {\n        vertical-align: top;\n    }\n\n    .dataframe thead th {\n        text-align: right;\n    }\n</style>\n<table border=\"1\" class=\"dataframe\">\n  <thead>\n    <tr style=\"text-align: right;\">\n      <th></th>\n      <th>Province/State</th>\n      <th>Country/Region</th>\n      <th>Lat</th>\n      <th>Long</th>\n      <th>1/22/20</th>\n      <th>1/23/20</th>\n      <th>1/24/20</th>\n      <th>1/25/20</th>\n      <th>1/26/20</th>\n      <th>1/27/20</th>\n      <th>...</th>\n      <th>3/10/20</th>\n      <th>3/11/20</th>\n      <th>3/12/20</th>\n      <th>3/13/20</th>\n      <th>3/14/20</th>\n      <th>3/15/20</th>\n      <th>3/16/20</th>\n      <th>today</th>\n      <th>yesterday</th>\n      <th>no_new_cases</th>\n    </tr>\n  </thead>\n  <tbody>\n    <tr>\n      <th>0</th>\n      <td>NaN</td>\n      <td>Thailand</td>\n      <td>15.0000</td>\n      <td>101.0000</td>\n      <td>2</td>\n      <td>3</td>\n      <td>5</td>\n      <td>7</td>\n      <td>8</td>\n      <td>8</td>\n      <td>...</td>\n      <td>53</td>\n      <td>59</td>\n      <td>70</td>\n      <td>75</td>\n      <td>82</td>\n      <td>114</td>\n      <td>147</td>\n      <td>50</td>\n      <td>50</td>\n      <td>False</td>\n    </tr>\n    <tr>\n      <th>1</th>\n      <td>NaN</td>\n      <td>Japan</td>\n      <td>36.0000</td>\n      <td>138.0000</td>\n      <td>2</td>\n      <td>1</td>\n      <td>2</td>\n      <td>2</td>\n      <td>4</td>\n      <td>4</td>\n      <td>...</td>\n      <td>581</td>\n      <td>639</td>\n      <td>639</td>\n      <td>701</td>\n      <td>773</td>\n      <td>839</td>\n      <td>825</td>\n      <td>502</td>\n      <td>461</td>\n      <td>True</td>\n    </tr>\n    <tr>\n      <th>2</th>\n      <td>NaN</td>\n      <td>Singapore</td>\n      <td>1.2833</td>\n      <td>103.8333</td>\n      <td>0</td>\n      <td>1</td>\n      <td>3</td>\n      <td>3</td>\n      <td>4</td>\n      <td>5</td>\n      <td>...</td>\n      <td>160</td>\n      <td>178</td>\n      <td>178</td>\n      <td>200</td>\n      <td>212</td>\n      <td>226</td>\n      <td>243</td>\n      <td>150</td>\n      <td>138</td>\n      <td>True</td>\n    </tr>\n    <tr>\n      <th>4</th>\n      <td>NaN</td>\n      <td>Malaysia</td>\n      <td>2.5000</td>\n      <td>112.5000</td>\n      <td>0</td>\n      <td>0</td>\n      <td>0</td>\n      <td>3</td>\n      <td>4</td>\n      <td>4</td>\n      <td>...</td>\n      <td>129</td>\n      <td>149</td>\n      <td>149</td>\n      <td>197</td>\n      <td>238</td>\n      <td>428</td>\n      <td>566</td>\n      <td>99</td>\n      <td>93</td>\n      <td>True</td>\n    </tr>\n    <tr>\n      <th>6</th>\n      <td>New South Wales</td>\n      <td>Australia</td>\n      <td>-33.8688</td>\n      <td>151.2093</td>\n      <td>0</td>\n      <td>0</td>\n      <td>0</td>\n      <td>0</td>\n      <td>3</td>\n      <td>4</td>\n      <td>...</td>\n      <td>55</td>\n      <td>65</td>\n      <td>65</td>\n      <td>92</td>\n      <td>112</td>\n      <td>134</td>\n      <td>171</td>\n      <td>38</td>\n      <td>28</td>\n      <td>True</td>\n    </tr>\n    <tr>\n      <th>...</th>\n      <td>...</td>\n      <td>...</td>\n      <td>...</td>\n      <td>...</td>\n      <td>...</td>\n      <td>...</td>\n      <td>...</td>\n      <td>...</td>\n      <td>...</td>\n      <td>...</td>\n      <td>...</td>\n      <td>...</td>\n      <td>...</td>\n      <td>...</td>\n      <td>...</td>\n      <td>...</td>\n      <td>...</td>\n      <td>...</td>\n      <td>...</td>\n      <td>...</td>\n      <td>...</td>\n    </tr>\n    <tr>\n      <th>347</th>\n      <td>Los Angeles, CA</td>\n      <td>US</td>\n      <td>34.0522</td>\n      <td>-118.2437</td>\n      <td>0</td>\n      <td>0</td>\n      <td>0</td>\n      <td>0</td>\n      <td>1</td>\n      <td>1</td>\n      <td>...</td>\n      <td>0</td>\n      <td>0</td>\n      <td>0</td>\n      <td>0</td>\n      <td>0</td>\n      <td>0</td>\n      <td>0</td>\n      <td>14</td>\n      <td>14</td>\n      <td>False</td>\n    </tr>\n    <tr>\n      <th>348</th>\n      <td>King County, WA</td>\n      <td>US</td>\n      <td>47.6062</td>\n      <td>-122.3321</td>\n      <td>1</td>\n      <td>1</td>\n      <td>1</td>\n      <td>1</td>\n      <td>1</td>\n      <td>1</td>\n      <td>...</td>\n      <td>0</td>\n      <td>0</td>\n      <td>0</td>\n      <td>0</td>\n      <td>0</td>\n      <td>0</td>\n      <td>0</td>\n      <td>83</td>\n      <td>71</td>\n      <td>True</td>\n    </tr>\n    <tr>\n      <th>349</th>\n      <td>Cook County, IL</td>\n      <td>US</td>\n      <td>41.7377</td>\n      <td>-87.6976</td>\n      <td>0</td>\n      <td>0</td>\n      <td>1</td>\n      <td>1</td>\n      <td>1</td>\n      <td>1</td>\n      <td>...</td>\n      <td>0</td>\n      <td>0</td>\n      <td>0</td>\n      <td>0</td>\n      <td>0</td>\n      <td>0</td>\n      <td>0</td>\n      <td>7</td>\n      <td>6</td>\n      <td>True</td>\n    </tr>\n    <tr>\n      <th>404</th>\n      <td>United Kingdom</td>\n      <td>United Kingdom</td>\n      <td>55.3781</td>\n      <td>-3.4360</td>\n      <td>0</td>\n      <td>0</td>\n      <td>0</td>\n      <td>0</td>\n      <td>0</td>\n      <td>0</td>\n      <td>...</td>\n      <td>382</td>\n      <td>456</td>\n      <td>456</td>\n      <td>798</td>\n      <td>1140</td>\n      <td>1140</td>\n      <td>1543</td>\n      <td>273</td>\n      <td>206</td>\n      <td>True</td>\n    </tr>\n    <tr>\n      <th>446</th>\n      <td>Netherlands</td>\n      <td>Netherlands</td>\n      <td>52.1326</td>\n      <td>5.2913</td>\n      <td>0</td>\n      <td>0</td>\n      <td>0</td>\n      <td>0</td>\n      <td>0</td>\n      <td>0</td>\n      <td>...</td>\n      <td>382</td>\n      <td>503</td>\n      <td>503</td>\n      <td>804</td>\n      <td>959</td>\n      <td>1135</td>\n      <td>1413</td>\n      <td>265</td>\n      <td>188</td>\n      <td>True</td>\n    </tr>\n  </tbody>\n</table>\n<p>225 rows × 62 columns</p>\n</div>",
      "text/plain": "      Province/State  Country/Region      Lat      Long  1/22/20  1/23/20  \\\n0                NaN        Thailand  15.0000  101.0000        2        3   \n1                NaN           Japan  36.0000  138.0000        2        1   \n2                NaN       Singapore   1.2833  103.8333        0        1   \n4                NaN        Malaysia   2.5000  112.5000        0        0   \n6    New South Wales       Australia -33.8688  151.2093        0        0   \n..               ...             ...      ...       ...      ...      ...   \n347  Los Angeles, CA              US  34.0522 -118.2437        0        0   \n348  King County, WA              US  47.6062 -122.3321        1        1   \n349  Cook County, IL              US  41.7377  -87.6976        0        0   \n404   United Kingdom  United Kingdom  55.3781   -3.4360        0        0   \n446      Netherlands     Netherlands  52.1326    5.2913        0        0   \n\n     1/24/20  1/25/20  1/26/20  1/27/20  ...  3/10/20  3/11/20  3/12/20  \\\n0          5        7        8        8  ...       53       59       70   \n1          2        2        4        4  ...      581      639      639   \n2          3        3        4        5  ...      160      178      178   \n4          0        3        4        4  ...      129      149      149   \n6          0        0        3        4  ...       55       65       65   \n..       ...      ...      ...      ...  ...      ...      ...      ...   \n347        0        0        1        1  ...        0        0        0   \n348        1        1        1        1  ...        0        0        0   \n349        1        1        1        1  ...        0        0        0   \n404        0        0        0        0  ...      382      456      456   \n446        0        0        0        0  ...      382      503      503   \n\n     3/13/20  3/14/20  3/15/20  3/16/20  today  yesterday  no_new_cases  \n0         75       82      114      147     50         50         False  \n1        701      773      839      825    502        461          True  \n2        200      212      226      243    150        138          True  \n4        197      238      428      566     99         93          True  \n6         92      112      134      171     38         28          True  \n..       ...      ...      ...      ...    ...        ...           ...  \n347        0        0        0        0     14         14         False  \n348        0        0        0        0     83         71          True  \n349        0        0        0        0      7          6          True  \n404      798     1140     1140     1543    273        206          True  \n446      804      959     1135     1413    265        188          True  \n\n[225 rows x 62 columns]"
     },
     "execution_count": 474,
     "metadata": {},
     "output_type": "execute_result"
    }
   ],
   "source": [
    "def new_cases_count(day: int, month: int, year: int = 2020) -> int:\n",
    "    date = f'{month}/{day}/{year%100}'\n",
    "    cr='Country/Region'\n",
    "    grouped = confirmed_cases\n",
    "    new_cases = grouped.loc[lambda df:df.shift(periods=1, axis=1)[date]!=df[date]]\n",
    "    return new_cases\n",
    "new_cases_count(10,3)\n"
   ]
  },
  {
   "cell_type": "code",
   "execution_count": 472,
   "metadata": {},
   "outputs": [
    {
     "data": {
      "text/plain": "116"
     },
     "execution_count": 472,
     "metadata": {},
     "output_type": "execute_result"
    }
   ],
   "source": [
    "def no_new_cases_count(day: int, month: int, year: int = 2020) -> int:\n",
    "    date = f\"{month}/{day}/{year % 100}\"\n",
    "    confirmed_cases[\"today\"] = confirmed_cases[date].shift(periods=0, fill_value=0)\n",
    "    confirmed_cases[\"yesterday\"] = confirmed_cases.shift(periods=1, fill_value=0, axis=1)[date]\n",
    "    confirmed_cases[\"no_new_cases\"] = confirmed_cases[\"today\"] != confirmed_cases[\"yesterday\"]\n",
    "    no_new_cases = confirmed_cases.no_new_cases.sum()\n",
    "    return no_new_cases\n",
    "no_new_cases_count(8,3)"
   ]
  },
  {
   "cell_type": "code",
   "execution_count": null,
   "metadata": {},
   "outputs": [],
   "source": []
  }
 ]
}