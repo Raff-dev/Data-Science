{
 "nbformat": 4,
 "nbformat_minor": 2,
 "metadata": {
  "language_info": {
   "name": "python",
   "codemirror_mode": {
    "name": "ipython",
    "version": 3
   },
   "version": "3.8.0-final"
  },
  "orig_nbformat": 2,
  "file_extension": ".py",
  "mimetype": "text/x-python",
  "name": "python",
  "npconvert_exporter": "python",
  "pygments_lexer": "ipython3",
  "version": 3,
  "kernelspec": {
   "name": "python38032bite92115f2261948f5a3c791231d87287e",
   "display_name": "Python 3.8.0 32-bit"
  }
 },
 "cells": [
  {
   "cell_type": "code",
   "execution_count": 4,
   "metadata": {},
   "outputs": [],
   "source": [
    "from typing import List\n",
    "import pandas as pd\n",
    "from datetime import date, datetime, timedelta\n",
    "import os\n",
    "\n",
    "def getData(data_type:str ):# 'Confirmed', 'Deaths', 'Recovered'\n",
    "    url = f\"https://raw.githubusercontent.com/CSSEGISandData/COVID-19/a9f182afe873ce7e65d2307fcf91013c23a4556c\" \\\n",
    "          f\"/csse_covid_19_data/csse_covid_19_time_series/time_series_19-covid-{data_type}.csv\"\n",
    "    return pd.read_csv(url, error_bad_lines=False)\n",
    "\n",
    "\n",
    "def format_date(date: datetime.date):\n",
    "    if os.name == \"nt\":\n",
    "        return date.strftime('%#m/%#d/%y')\n",
    "    else:\n",
    "        return date.strftime('%-m/%-d/%y')"
   ]
  },
  {
   "cell_type": "code",
   "execution_count": 5,
   "metadata": {},
   "outputs": [],
   "source": [
    "def countries_with_no_deaths_count(ddate: date) -> int:\n",
    "    ddate = format_date(ddate)\n",
    "    dfD = getData('Deaths').loc[:,'1/22/20':ddate]\n",
    "    dfC = getData('Confirmed').loc[:,'1/22/20':ddate]\n",
    "    has_confirmed = dfC[dfC[ddate]!=0]\n",
    "    no_deaths = dfD[dfD[ddate]==0]\n",
    "    return len(has_confirmed.index & no_deaths.index)\n",
    "\n",
    "    \"\"\"\n",
    "    Returns the number of areas (countries, region, provinces) in the data set\n",
    "    where infections were found, but nobody died on a given date. (DO NOT GROUP BY)\n",
    "    Ex.\n",
    "    >>> countries_with_no_deaths_count(datetime.date(2020, 3, 15))\n",
    "    171\n",
    "    >>> countries_with_no_deaths_count(datetime.date(2020, 2, 18))\n",
    "    46\n",
    "    :param date: Date object of the date to get the results for\n",
    "    :return: Number of countries with no deaths but with active cases on a given date as an integer\n",
    "    \"\"\"\n",
    "\n",
    "#countries_with_no_deaths_count(date(2020,2,18))\n",
    ""
   ]
  },
  {
   "cell_type": "code",
   "execution_count": 7,
   "metadata": {},
   "outputs": [],
   "source": [
    "def more_cured_than_deaths_indices(ddate: datetime.date) -> List[int]:\n",
    "    ddate = format_date(ddate)\n",
    "    dfR = getData('Recovered')[ddate]\n",
    "    dfD = getData('Deaths')[ddate]\n",
    "    return list(dfD[dfR > dfD].index)\n",
    "    \"\"\"\n",
    "    Returns table indices of areas (countries, region, provinces) in the data set\n",
    "    with more cured cases than deaths on a given date. (DO NOT GROUP BY)\n",
    "    Ex.\n",
    "    >>> more_cured_than_deaths_indices(datetime.date(2020, 3, 15))\n",
    "    [0, 1, 2, 3, 4, 5, 6, 7, 8, 9, 10, 11, 12, 13, 15, 16, 18, 19,\n",
    "    21, 24, 25, 27, 28, 29, 30, 32, 33, 34, 37, 38, 40, 41, 43, 44,\n",
    "    45, 46, 53, 55, 58, 59, 60, 62, 64, 65, 68, 86, 92, 101, 110, 118,\n",
    "    128, 154, 155, 156, 158, 159, 160, 161, 162, 163, 164, 165, 166, 167,\n",
    "    168, 169, 171, 172, 173, 174, 175, 176, 177, 178, 179, 180, 181, 182,\n",
    "    183, 184, 185, 187, 188, 189, 190, 191, 192, 193, 194, 202, 208]\n",
    "    >>> more_cured_than_deaths_indices(datetime.date(2020, 2, 18))\n",
    "    [0, 1, 2, 3, 4, 6, 7, 9, 10, 11, 12, 13, 15, 18, 19, 20, 92, 154, 156,\n",
    "    157, 158, 159, 160, 161, 162, 163, 164, 166, 167, 168, 169, 171, 172,\n",
    "    173, 174, 175, 176, 177, 178, 179, 180, 181, 182, 183, 184, 185, 187,\n",
    "    188, 189, 190, 191, 192, 193, 194, 202, 347, 348, 403]\n",
    "    :param date: Date object of the date to get the results for\n",
    "    :return: A List of integers containing indices of countries which had more cured cases than deaths on a given date\n",
    "    \"\"\"\n",
    "#more_cured_than_deaths_indices(date(2020,3,15))"
   ]
  },
  {
   "cell_type": "code",
   "execution_count": null,
   "metadata": {},
   "outputs": [],
   "source": [
    "\n"
   ]
  }
 ]
}