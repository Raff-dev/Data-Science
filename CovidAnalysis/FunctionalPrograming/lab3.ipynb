{
 "metadata": {
  "language_info": {
   "codemirror_mode": {
    "name": "ipython",
    "version": 3
   },
   "file_extension": ".py",
   "mimetype": "text/x-python",
   "name": "python",
   "nbconvert_exporter": "python",
   "pygments_lexer": "ipython3",
   "version": "3.9.0-final"
  },
  "orig_nbformat": 2,
  "kernelspec": {
   "name": "python3",
   "display_name": "Python 3.9.0 32-bit ('venv')",
   "metadata": {
    "interpreter": {
     "hash": "35470e9a522c2b71bb959b170bfe740f8394aa9d31acf67151db8662f37c1130"
    }
   }
  }
 },
 "nbformat": 4,
 "nbformat_minor": 2,
 "cells": [
  {
   "cell_type": "code",
   "execution_count": 55,
   "metadata": {
    "tags": []
   },
   "outputs": [],
   "source": [
    "import numpy as np\n",
    "import pandas as pd\n",
    "from utils import get_data\n",
    "import requests\n",
    "import json\n",
    "\n",
    "\n",
    "validate = lambda data_type, value : None if np.isnan(value) else data_type(value)\n",
    "data = get_data()\n",
    "post_data = {\n",
    "    'data':[\n",
    "        {\n",
    "            'continent_name' : continent_data['continent'].iloc[0],\n",
    "            'countries':[\n",
    "            {\n",
    "                'country_name' : country_data['location'].iloc[0],\n",
    "                'entries':[{\n",
    "                    'date':entry_data['date'],\n",
    "                    'new_cases':validate(int, entry_data['new_cases']),\n",
    "                    'new_cases_per_million':validate(float, entry_data['new_cases_per_million']),\n",
    "                    'new_deaths':validate(int, entry_data['new_deaths'])            \n",
    "                } for _,entry_data in country_data.iterrows()]\n",
    "            } for country_data in [country_data for _, country_data in continent_data.groupby('location')]]\n",
    "            }\n",
    "        for continent_data in [continent_data for _, continent_data in data.groupby('continent')] \n",
    "    ]\n",
    "}\n"
   ]
  },
  {
   "cell_type": "code",
   "execution_count": 1,
   "metadata": {},
   "outputs": [
    {
     "output_type": "error",
     "ename": "NameError",
     "evalue": "name 'json' is not defined",
     "traceback": [
      "\u001b[1;31m---------------------------------------------------------------------------\u001b[0m",
      "\u001b[1;31mNameError\u001b[0m                                 Traceback (most recent call last)",
      "\u001b[1;32m<ipython-input-1-d541518e4b23>\u001b[0m in \u001b[0;36m<module>\u001b[1;34m\u001b[0m\n\u001b[0;32m      1\u001b[0m \u001b[0mAPI_UPDATE_URL\u001b[0m \u001b[1;33m=\u001b[0m\u001b[1;34m'http://localhost:8000/Covid/update_data/'\u001b[0m\u001b[1;33m\u001b[0m\u001b[1;33m\u001b[0m\u001b[0m\n\u001b[0;32m      2\u001b[0m \u001b[0mHEADERS\u001b[0m \u001b[1;33m=\u001b[0m \u001b[1;33m{\u001b[0m\u001b[1;34m'Content-type'\u001b[0m\u001b[1;33m:\u001b[0m \u001b[1;34m'application/json'\u001b[0m\u001b[1;33m}\u001b[0m\u001b[1;33m\u001b[0m\u001b[1;33m\u001b[0m\u001b[0m\n\u001b[1;32m----> 3\u001b[1;33m \u001b[0mjson_post_data\u001b[0m \u001b[1;33m=\u001b[0m \u001b[0mjson\u001b[0m\u001b[1;33m.\u001b[0m\u001b[0mdumps\u001b[0m\u001b[1;33m(\u001b[0m\u001b[0mpost_data\u001b[0m\u001b[1;33m)\u001b[0m\u001b[1;33m\u001b[0m\u001b[1;33m\u001b[0m\u001b[0m\n\u001b[0m\u001b[0;32m      4\u001b[0m \u001b[1;33m\u001b[0m\u001b[0m\n\u001b[0;32m      5\u001b[0m requests.post(\n",
      "\u001b[1;31mNameError\u001b[0m: name 'json' is not defined"
     ]
    }
   ],
   "source": [
    "API_UPDATE_URL ='http://localhost:8000/Covid/update_data/'\n",
    "HEADERS = {'Content-type': 'application/json'}\n",
    "json_post_data = json.dumps(post_data)\n",
    "\n",
    "requests.post(\n",
    "    url=API_UPDATE_URL, \n",
    "    headers=HEADERS,\n",
    "    data=json_post_data\n",
    ")"
   ]
  },
  {
   "cell_type": "code",
   "execution_count": 71,
   "metadata": {},
   "outputs": [
    {
     "output_type": "execute_result",
     "data": {
      "text/plain": [
       "[{'name': 'Peru',\n",
       "  'category': [2, 1],\n",
       "  'avg': [1099.3666666666666, 5486.733333333334]}]"
      ]
     },
     "metadata": {},
     "execution_count": 71
    }
   ],
   "source": [
    "API_GET_RANKED_UP_URL ='http://localhost:8000/Covid/get_ranked_up/'\n",
    "HEADERS = {'Content-type': 'application/json'}\n",
    "\n",
    "ranked_up_data_json = json.dumps({\n",
    "    'continent_name' : 'South America',\n",
    "    'first_period' : ['2020-04-01', '2020-04-30'],\n",
    "    'second_period' : ['2020-09-01', '2020-09-30']\n",
    "})\n",
    "res = requests.get(\n",
    "    url=API_GET_RANKED_UP_URL, \n",
    "    headers=HEADERS,\n",
    "    data=ranked_up_data_json\n",
    ")\n",
    "res.json()\n"
   ]
  }
 ]
}