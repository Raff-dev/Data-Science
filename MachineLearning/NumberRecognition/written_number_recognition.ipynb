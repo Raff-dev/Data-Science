{
 "metadata": {
  "language_info": {
   "codemirror_mode": {
    "name": "ipython",
    "version": 3
   },
   "file_extension": ".py",
   "mimetype": "text/x-python",
   "name": "python",
   "nbconvert_exporter": "python",
   "pygments_lexer": "ipython3",
   "version": "3.9.1-final"
  },
  "orig_nbformat": 2,
  "kernelspec": {
   "name": "python3",
   "display_name": "Python 3.9.1 64-bit ('venv')",
   "metadata": {
    "interpreter": {
     "hash": "f3973f96c20d2fd15c9911a28fe509c8d50a39fef1f25c11b2ec666c8fc5958a"
    }
   }
  }
 },
 "nbformat": 4,
 "nbformat_minor": 2,
 "cells": [
  {
   "cell_type": "code",
   "execution_count": 1,
   "metadata": {},
   "outputs": [],
   "source": [
    "from sklearn.datasets import fetch_openml, load_digits\n",
    "from sklearn.model_selection import train_test_split\n",
    "from sklearn.linear_model import LogisticRegression\n",
    "from sklearn.decomposition import PCA\n",
    "from sklearn.preprocessing import StandardScaler\n",
    "from utils import pca_np\n",
    "import numpy as np\n",
    "\n",
    "import time\n"
   ]
  },
  {
   "cell_type": "code",
   "execution_count": null,
   "metadata": {},
   "outputs": [],
   "source": [
    "PCA_SKLEARN = 'pca_sklearn'\n",
    "PCA_OWN = 'pca_own'\n",
    "MAX_ITER = 50000\n",
    "TEST_SIZE = 0.3\n",
    "\n",
    "def log(func):\n",
    "    def wrapper(*args, **kwargs):\n",
    "        start = time.time()\n",
    "        print(f'Starting with {kwargs}')\n",
    "        result = func(*args, **kwargs)\n",
    "        elapsed = time.time() - start\n",
    "        print(f'Finished. Time elapsed {elapsed:0.2f}s\\n')\n",
    "        return result\n",
    "    return wrapper\n",
    "\n",
    "@log\n",
    "def score(pca_type=None, n_components=None):\n",
    "    images, labels = data.data, data.target\n",
    "\n",
    "    scaler = StandardScaler()\n",
    "    scaler.fit(images)\n",
    "    images = scaler.transform(images)\n",
    "\n",
    "    if pca_type == PCA_SKLEARN:\n",
    "        pca = PCA(n_components=n_components)\n",
    "        pca.fit(images)\n",
    "        images = pca.transform(images)\n",
    "\n",
    "    if pca_type == PCA_OWN:\n",
    "        data_evals, data_evecs, data_mean = pca_np(images)\n",
    "        data_evecs_n = data_evecs[:, :n_components]\n",
    "        images = np.dot(images-data_mean, data_evecs_n)\n",
    "\n",
    "    images_train, images_test, labels_train, labels_test = train_test_split(\n",
    "        images, labels, test_size=TEST_SIZE, random_state=0)\n",
    "\n",
    "    logistic_regression = LogisticRegression(max_iter=MAX_ITER, solver='lbfgs')\n",
    "    logistic_regression.fit(images_train, labels_train)\n",
    "    logistic_regression.predict(images_test[0].reshape(1, -1))\n",
    "\n",
    "    score = logistic_regression.score(images_test, labels_test)\n",
    "\n",
    "    print(f'Score: {score}')\n",
    "\n",
    "data = fetch_openml('mnist_784')\n",
    "score(n_components=10, pca_type=PCA_OWN)\n",
    "score(n_components=50, pca_type=PCA_OWN)\n",
    "score(n_components=100, pca_type=PCA_OWN)\n",
    "score(n_components=200, pca_type=PCA_OWN)\n",
    "score(n_components=200, pca_type=PCA_SKLEARN)\n",
    "score(pca_type=None)"
   ]
  },
  {
   "cell_type": "code",
   "execution_count": null,
   "metadata": {},
   "outputs": [],
   "source": []
  }
 ]
}